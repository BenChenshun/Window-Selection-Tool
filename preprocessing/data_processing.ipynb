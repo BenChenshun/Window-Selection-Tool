{
 "cells": [
  {
   "metadata": {},
   "cell_type": "markdown",
   "source": "## Weather data processing",
   "id": "c6846b6806f7a872"
  },
  {
   "metadata": {
    "ExecuteTime": {
     "end_time": "2024-11-11T20:17:17.788277Z",
     "start_time": "2024-11-11T20:17:16.602947Z"
    }
   },
   "cell_type": "code",
   "source": [
    "from app import window_area\n",
    "from zipcodeweather import *\n",
    "import pandas as pd\n",
    "\n",
    "weather = ZipCodeWeather()\n",
    "\n",
    "def get_weather_info(zip_code):\n",
    "    \"\"\"\n",
    "    Retrieve weather station and climate zone information for a given zip code.\n",
    "\n",
    "    Parameters:\n",
    "    - zip_code (str): Zip code of the location.\n",
    "\n",
    "    Returns:\n",
    "    - pd.DataFrame: A DataFrame containing zip code, coordinates, nearest weather station info, and climate zone.\n",
    "    \"\"\"\n",
    "    try:\n",
    "        # Step 1: Find nearest weather station (returns a Series)\n",
    "        nearest_station = weather.get_nearest_station(zip_code)\n",
    "\n",
    "        # Step 2: Retrieve the climate zone as a string\n",
    "        climate_zone = weather.get_climate_zone(zip_code)\n",
    "\n",
    "        # Step 4: Combine all data into a DataFrame\n",
    "        data = {\n",
    "            \"Zip Code\": [zip_code],\n",
    "            \"winter_avg_temp\": nearest_station['winter_avg_temp'],\n",
    "            \"summer_avg_temp\": nearest_station['summer_avg_temp'],\n",
    "            \"Climate Zone\": [climate_zone],\n",
    "            \"HDH\": nearest_station['HDH'],\n",
    "            \"CDH\": nearest_station['CDH'],\n",
    "            \"GHI\": nearest_station['GHI']\n",
    "        }\n",
    "        \n",
    "        # Concatenate both DataFrames along the columns\n",
    "        final_df = pd.DataFrame(data)\n",
    "        \n",
    "        return final_df\n",
    "\n",
    "    except ValueError as e:\n",
    "        print(f\"Error: {e}\")\n",
    "        return pd.DataFrame()  # Return an empty DataFrame on error\n",
    "\n",
    "# Example usage\n",
    "if __name__ == \"__main__\":\n",
    "    zip_code = \"16803\"  # Example zip code\n",
    "    df = get_weather_info(zip_code)\n",
    "    print(df)"
   ],
   "id": "103a9328c7f95985",
   "outputs": [
    {
     "name": "stdout",
     "output_type": "stream",
     "text": [
      "  Zip Code  winter_avg_temp  summer_avg_temp Climate Zone       HDH     CDH  \\\n",
      "0    16803        -1.251898        20.800498         Cold  124322.2  2126.5   \n",
      "\n",
      "        GHI  \n",
      "0  3.673255  \n"
     ]
    }
   ],
   "execution_count": 5
  },
  {
   "metadata": {},
   "cell_type": "code",
   "outputs": [],
   "execution_count": null,
   "source": [
    "import numpy as np\n",
    "\n",
    "# Function to calculate predicted window area\n",
    "def calculate_predicted_window_area(conditioned_area, building_type, stories, wwr, foundation):\n",
    "    if foundation == 'Heated Basement' and building_type == 'Single-Family Detached':\n",
    "        foundation_area = conditioned_area / (stories + 1)\n",
    "        solution = np.sqrt(foundation_area / 1.8)\n",
    "        c = (solution + solution * 1.8) * 2\n",
    "        return c * 8 * stories * (wwr * 0.01)\n",
    "\n",
    "    elif foundation == 'Heated Basement' and building_type == 'Single-Family Attached':\n",
    "        foundation_area = conditioned_area / (stories + 1)\n",
    "        solution = np.sqrt(foundation_area / 0.5556)\n",
    "        c = (solution + solution * 0.5556) * 2\n",
    "        return c * 8 * stories * (wwr * 0.01)\n",
    "\n",
    "    elif foundation != 'Heated Basement' and building_type == 'Single-Family Detached':\n",
    "        foundation_area = conditioned_area / stories\n",
    "        solution = np.sqrt(foundation_area / 1.8)\n",
    "        c = (solution + solution * 1.8) * 2\n",
    "        return c * 8 * stories * (wwr * 0.01)\n",
    "\n",
    "    elif foundation != 'Heated Basement' and building_type == 'Single-Family Attached':\n",
    "        foundation_area = conditioned_area / stories\n",
    "        solution = np.sqrt(foundation_area / 0.5556)\n",
    "        c = (solution + solution * 0.5556) * 2\n",
    "        return c * 8 * stories * (wwr * 0.01)\n",
    "\n",
    "    elif building_type == 'Apartment Unit':\n",
    "        solution = np.sqrt(conditioned_area / 0.5556)\n",
    "        c = (solution + solution * 0.5556) * 2\n",
    "        return c * 8 * (wwr * 0.01)\n",
    "\n",
    "    elif building_type == 'Mobile Home':\n",
    "        solution = np.sqrt(conditioned_area / 1.8)\n",
    "        c = (solution + solution * 1.8) * 2\n",
    "        return c * 8 * (wwr * 0.01)"
   ],
   "id": "52b355e0a2eacb07"
  },
  {
   "metadata": {},
   "cell_type": "code",
   "outputs": [],
   "execution_count": null,
   "source": [
    "# surface area / volume\n",
    "# Processed variables\n",
    "def calculate_surface_volume_ratio(conditioned_area, building_type, stories, foundation):\n",
    "    if foundation == 'Heated Basement' and building_type == 'Single-Family Detached':\n",
    "        foundation_area = conditioned_area / (stories + 1)\n",
    "        solution = np.sqrt(foundation_area / 1.8)\n",
    "        volume = foundation_area * (stories + 1) * 8\n",
    "        c = (solution + solution * 1.8) * 2\n",
    "        surface_area = c * (stories + 1) * 8 + foundation_area\n",
    "        return surface_area/volume\n",
    "\n",
    "    elif foundation == 'Heated Basement' and building_type == 'Single-Family Attached':\n",
    "        foundation_area = conditioned_area / (stories + 1)\n",
    "        solution = np.sqrt(foundation_area / 0.5556)\n",
    "        volume = foundation_area * (stories + 1) * 8\n",
    "        c = (solution + solution * 0.5556) * 2\n",
    "        surface_area = c * (stories + 1) * 8 + foundation_area\n",
    "        return surface_area/volume\n",
    "\n",
    "    elif foundation != 'Heated Basement' and building_type == 'Single-Family Detached':\n",
    "        foundation_area = conditioned_area / stories\n",
    "        solution = np.sqrt(foundation_area / 1.8)\n",
    "        volume = foundation_area * stories * 8\n",
    "        c = (solution + solution * 1.8) * 2\n",
    "        surface_area = c * stories * 8 + foundation_area\n",
    "        return surface_area/volume\n",
    "\n",
    "    elif foundation != 'Heated Basement' and building_type == 'Single-Family Attached':\n",
    "        foundation_area = conditioned_area / stories\n",
    "        solution = np.sqrt(foundation_area / 0.5556)\n",
    "        volume = foundation_area * stories * 8\n",
    "        c = (solution + solution * 0.5556) * 2\n",
    "        surface_area = c * stories * 8 + foundation_area\n",
    "        return surface_area/volume\n",
    "\n",
    "    elif building_type == 'Apartment Unit':\n",
    "        solution = np.sqrt(conditioned_area / 0.5556)\n",
    "        volume = conditioned_area * 8\n",
    "        c = (solution + solution * 0.5556) * 2\n",
    "        surface_area = c * 8 + conditioned_area\n",
    "        return surface_area/volume\n",
    "\n",
    "    elif building_type == 'Mobile Home':\n",
    "        solution = np.sqrt(conditioned_area / 1.8)\n",
    "        volume = conditioned_area * 8\n",
    "        c = (solution + solution * 1.8) * 2\n",
    "        surface_area = c * 8 + conditioned_area\n",
    "        return surface_area/volume"
   ],
   "id": "eb06c7eb7871e9a"
  },
  {
   "metadata": {
    "ExecuteTime": {
     "end_time": "2024-11-13T23:34:14.154565Z",
     "start_time": "2024-11-13T23:34:12.977367Z"
    }
   },
   "cell_type": "code",
   "source": [
    "from preprocessing import *\n",
    "import numpy as np\n",
    "weather_df = get_weather_info(\"16803\")\n",
    "print(weather_df[\"GHI\"].iloc[0])"
   ],
   "id": "70e809ebc3cb9be2",
   "outputs": [
    {
     "name": "stdout",
     "output_type": "stream",
     "text": [
      "3.673254794520548\n"
     ]
    }
   ],
   "execution_count": 18
  },
  {
   "metadata": {
    "ExecuteTime": {
     "end_time": "2024-11-13T21:05:26.438113Z",
     "start_time": "2024-11-13T21:05:26.434750Z"
    }
   },
   "cell_type": "code",
   "source": [
    "o = convert_orientation(\"North\")\n",
    "print(o)"
   ],
   "id": "8c3a2458342ffbc7",
   "outputs": [
    {
     "name": "stdout",
     "output_type": "stream",
     "text": [
      "0\n"
     ]
    }
   ],
   "execution_count": 2
  },
  {
   "metadata": {
    "ExecuteTime": {
     "end_time": "2024-11-13T23:11:49.669756Z",
     "start_time": "2024-11-13T23:11:49.308018Z"
    }
   },
   "cell_type": "code",
   "source": [
    "import json\n",
    "import streamlit as st\n",
    "st.write(\"### Session State Variables (JSON Format)\")\n",
    "st.json(st.session_state)"
   ],
   "id": "f11b307936896791",
   "outputs": [
    {
     "name": "stderr",
     "output_type": "stream",
     "text": [
      "2024-11-13 18:11:49.486 WARNING streamlit.runtime.scriptrunner_utils.script_run_context: Thread 'MainThread': missing ScriptRunContext! This warning can be ignored when running in bare mode.\n",
      "2024-11-13 18:11:49.662 \n",
      "  \u001B[33m\u001B[1mWarning:\u001B[0m to view this Streamlit app on a browser, run it with the following\n",
      "  command:\n",
      "\n",
      "    streamlit run /Users/chenchenshun/Library/CloudStorage/OneDrive-ThePennsylvaniaStateUniversity/Research Project/NFRC/Tool development/Web-based window selection/venv/lib/python3.9/site-packages/ipykernel_launcher.py [ARGUMENTS]\n",
      "2024-11-13 18:11:49.663 Thread 'MainThread': missing ScriptRunContext! This warning can be ignored when running in bare mode.\n",
      "2024-11-13 18:11:49.663 Thread 'MainThread': missing ScriptRunContext! This warning can be ignored when running in bare mode.\n",
      "2024-11-13 18:11:49.663 Thread 'MainThread': missing ScriptRunContext! This warning can be ignored when running in bare mode.\n",
      "2024-11-13 18:11:49.663 Thread 'MainThread': missing ScriptRunContext! This warning can be ignored when running in bare mode.\n",
      "2024-11-13 18:11:49.664 Session state does not function when running a script without `streamlit run`\n",
      "2024-11-13 18:11:49.664 Thread 'MainThread': missing ScriptRunContext! This warning can be ignored when running in bare mode.\n",
      "2024-11-13 18:11:49.664 Thread 'MainThread': missing ScriptRunContext! This warning can be ignored when running in bare mode.\n"
     ]
    },
    {
     "data": {
      "text/plain": [
       "DeltaGenerator()"
      ]
     },
     "execution_count": 3,
     "metadata": {},
     "output_type": "execute_result"
    }
   ],
   "execution_count": 3
  },
  {
   "metadata": {
    "ExecuteTime": {
     "end_time": "2025-03-27T23:15:49.719662Z",
     "start_time": "2025-03-27T23:15:49.700465Z"
    }
   },
   "cell_type": "code",
   "source": [
    "import pandas as pd\n",
    "# Read a TSV file\n",
    "df = pd.read_csv('../data/Infiltration.tsv', sep='\\t')\n",
    "\n",
    "df.info()"
   ],
   "id": "1633bcd164cbd48a",
   "outputs": [
    {
     "name": "stdout",
     "output_type": "stream",
     "text": [
      "<class 'pandas.core.frame.DataFrame'>\n",
      "RangeIndex: 1377 entries, 0 to 1376\n",
      "Data columns (total 21 columns):\n",
      " #   Column                Non-Null Count  Dtype  \n",
      "---  ------                --------------  -----  \n",
      " 0   IECC Zone             1377 non-null   object \n",
      " 1   Geometry Floor Area   1377 non-null   object \n",
      " 2   Vintage               1377 non-null   object \n",
      " 3   Option=1 ACH50        1377 non-null   float64\n",
      " 4   Option=2 ACH50        1377 non-null   float64\n",
      " 5   Option=3 ACH50        1377 non-null   float64\n",
      " 6   Option=4 ACH50        1377 non-null   float64\n",
      " 7   Option=5 ACH50        1377 non-null   float64\n",
      " 8   Option=6 ACH50        1377 non-null   float64\n",
      " 9   Option=7 ACH50        1377 non-null   float64\n",
      " 10  Option=8 ACH50        1377 non-null   float64\n",
      " 11  Option=10 ACH50       1377 non-null   float64\n",
      " 12  Option=15 ACH50       1377 non-null   float64\n",
      " 13  Option=20 ACH50       1377 non-null   float64\n",
      " 14  Option=25 ACH50       1377 non-null   float64\n",
      " 15  Option=30 ACH50       1377 non-null   float64\n",
      " 16  Option=40 ACH50       1377 non-null   float64\n",
      " 17  Option=50 ACH50       1377 non-null   float64\n",
      " 18  source_count          1377 non-null   int64  \n",
      " 19  source_weight         1377 non-null   int64  \n",
      " 20  sampling_probability  1377 non-null   float64\n",
      "dtypes: float64(16), int64(2), object(3)\n",
      "memory usage: 226.0+ KB\n"
     ]
    }
   ],
   "execution_count": 5
  },
  {
   "metadata": {
    "ExecuteTime": {
     "end_time": "2025-03-27T23:09:34.106518Z",
     "start_time": "2025-03-27T23:09:34.102034Z"
    }
   },
   "cell_type": "code",
   "source": "df.columns",
   "id": "ad82d5d3b82a7caa",
   "outputs": [
    {
     "data": {
      "text/plain": [
       "Index(['IECC Climate Zone 2004', 'Geometry Floor Area', 'Vintage',\n",
       "       'Option=1 ACH50', 'Option=2 ACH50', 'Option=3 ACH50', 'Option=4 ACH50',\n",
       "       'Option=5 ACH50', 'Option=6 ACH50', 'Option=7 ACH50', 'Option=8 ACH50',\n",
       "       'Option=10 ACH50', 'Option=15 ACH50', 'Option=20 ACH50',\n",
       "       'Option=25 ACH50', 'Option=30 ACH50', 'Option=40 ACH50',\n",
       "       'Option=50 ACH50', 'source_count', 'source_weight',\n",
       "       'sampling_probability'],\n",
       "      dtype='object')"
      ]
     },
     "execution_count": 6,
     "metadata": {},
     "output_type": "execute_result"
    }
   ],
   "execution_count": 6
  },
  {
   "metadata": {
    "ExecuteTime": {
     "end_time": "2025-03-27T22:25:44.916087Z",
     "start_time": "2025-03-27T22:25:44.906077Z"
    }
   },
   "cell_type": "code",
   "source": "df['Dependency=Vintage'].unique()",
   "id": "59b7e90979e7c6c7",
   "outputs": [
    {
     "data": {
      "text/plain": [
       "array(['1940s', '1950s', '1960s', '1970s', '1980s', '1990s', '2000s',\n",
       "       '2010s', '<1940'], dtype=object)"
      ]
     },
     "execution_count": 16,
     "metadata": {},
     "output_type": "execute_result"
    }
   ],
   "execution_count": 16
  },
  {
   "metadata": {
    "ExecuteTime": {
     "end_time": "2025-03-27T22:30:01.850305Z",
     "start_time": "2025-03-27T22:30:01.840705Z"
    }
   },
   "cell_type": "code",
   "source": [
    "def get_floor_area_bin(floor_area, bins):\n",
    "    for bin_label in bins:\n",
    "        if '+' in bin_label:\n",
    "            lower = float(bin_label.replace('+', ''))\n",
    "            if floor_area >= lower:\n",
    "                return bin_label\n",
    "        else:\n",
    "            lower, upper = map(float, bin_label.split('-'))\n",
    "            if lower <= floor_area <= upper:\n",
    "                return bin_label\n",
    "    return None  # or raise an error if not matched"
   ],
   "id": "850e6121ff1662aa",
   "outputs": [],
   "execution_count": 17
  },
  {
   "metadata": {
    "ExecuteTime": {
     "end_time": "2025-03-27T22:30:53.490100Z",
     "start_time": "2025-03-27T22:30:53.485711Z"
    }
   },
   "cell_type": "code",
   "source": [
    "area = 700\n",
    "bins=df['Dependency=Geometry Floor Area'].unique()\n",
    "matched_bin = get_floor_area_bin(area, bins)\n",
    "\n",
    "print(f\"Floor area {area} falls into bin: {matched_bin}\")"
   ],
   "id": "1d60d21ecc2d3eef",
   "outputs": [
    {
     "name": "stdout",
     "output_type": "stream",
     "text": [
      "Floor area 700 falls into bin: 500-749\n"
     ]
    }
   ],
   "execution_count": 20
  },
  {
   "metadata": {
    "ExecuteTime": {
     "end_time": "2025-03-27T23:12:52.560603Z",
     "start_time": "2025-03-27T23:12:52.553423Z"
    }
   },
   "cell_type": "code",
   "source": [
    "\n",
    "\n",
    "\n",
    "# infiltration = get_infiltration(iecc_zone, floor_area, vintage)\n",
    "matched_row = df[\n",
    "            (df['IECC Climate Zone 2004'] == iecc_zone) &\n",
    "            (df['Geometry Floor Area'] == floor_area_bin) &\n",
    "            (df['Vintage'] == vintage)\n",
    "            ]\n",
    "\n",
    "ach_columns = [col for col in df.columns if 'Option=' in col and 'ACH50' in col]\n",
    "row = matched_row.iloc[0][ach_columns].astype(float)\n",
    "infiltration = row.idxmax()\n",
    "print(infiltration)"
   ],
   "id": "af975d2d447bdab1",
   "outputs": [
    {
     "name": "stdout",
     "output_type": "stream",
     "text": [
      "Option=15 ACH50\n"
     ]
    }
   ],
   "execution_count": 4
  },
  {
   "metadata": {
    "ExecuteTime": {
     "end_time": "2025-03-27T23:11:18.452946Z",
     "start_time": "2025-03-27T23:11:17.179476Z"
    }
   },
   "cell_type": "code",
   "source": [
    "from preprocessing import *\n",
    "from zipcodeweather import *\n",
    "floor_area = 2400\n",
    "floor_area_bin = get_floor_area_bin(floor_area)\n",
    "zip_code = \"16803\"  # Example zip code\n",
    "iecc_zone = get_iecc_zone(zip_code)\n",
    "vintage = '1940s'\n",
    "\n",
    "get_infiltration(iecc_zone, floor_area, vintage)  "
   ],
   "id": "8fbfd396343ad328",
   "outputs": [
    {
     "name": "stderr",
     "output_type": "stream",
     "text": [
      "/Users/chenchenshun/Library/CloudStorage/OneDrive-ThePennsylvaniaStateUniversity/Research Project/NFRC/Tool development/Web-based window selection/venv/lib/python3.9/site-packages/urllib3/__init__.py:35: NotOpenSSLWarning: urllib3 v2 only supports OpenSSL 1.1.1+, currently the 'ssl' module is compiled with 'LibreSSL 2.8.3'. See: https://github.com/urllib3/urllib3/issues/3020\n",
      "  warnings.warn(\n"
     ]
    },
    {
     "ename": "FileNotFoundError",
     "evalue": "[Errno 2] No such file or directory: 'data/infiltration.tsv'",
     "output_type": "error",
     "traceback": [
      "\u001B[0;31m---------------------------------------------------------------------------\u001B[0m",
      "\u001B[0;31mFileNotFoundError\u001B[0m                         Traceback (most recent call last)",
      "Cell \u001B[0;32mIn[1], line 9\u001B[0m\n\u001B[1;32m      6\u001B[0m iecc_zone \u001B[38;5;241m=\u001B[39m get_iecc_zone(zip_code)\n\u001B[1;32m      7\u001B[0m vintage \u001B[38;5;241m=\u001B[39m \u001B[38;5;124m'\u001B[39m\u001B[38;5;124m1940s\u001B[39m\u001B[38;5;124m'\u001B[39m\n\u001B[0;32m----> 9\u001B[0m \u001B[43mget_infiltration\u001B[49m\u001B[43m(\u001B[49m\u001B[43miecc_zone\u001B[49m\u001B[43m,\u001B[49m\u001B[43m \u001B[49m\u001B[43mfloor_area\u001B[49m\u001B[43m,\u001B[49m\u001B[43m \u001B[49m\u001B[43mvintage\u001B[49m\u001B[43m)\u001B[49m  \n",
      "File \u001B[0;32m~/Library/CloudStorage/OneDrive-ThePennsylvaniaStateUniversity/Research Project/NFRC/Tool development/Web-based window selection/preprocessing/data_processing.py:209\u001B[0m, in \u001B[0;36mget_infiltration\u001B[0;34m(iecc_zone, floor_area, vintage)\u001B[0m\n\u001B[1;32m    207\u001B[0m \u001B[38;5;28;01mdef\u001B[39;00m \u001B[38;5;21mget_infiltration\u001B[39m(iecc_zone, floor_area, vintage):\n\u001B[1;32m    208\u001B[0m     \u001B[38;5;28;01mtry\u001B[39;00m:\n\u001B[0;32m--> 209\u001B[0m         df \u001B[38;5;241m=\u001B[39m \u001B[43mpd\u001B[49m\u001B[38;5;241;43m.\u001B[39;49m\u001B[43mread_csv\u001B[49m\u001B[43m(\u001B[49m\u001B[38;5;124;43m'\u001B[39;49m\u001B[38;5;124;43mdata/infiltration.tsv\u001B[39;49m\u001B[38;5;124;43m'\u001B[39;49m\u001B[43m)\u001B[49m\n\u001B[1;32m    210\u001B[0m         floor_area_bin \u001B[38;5;241m=\u001B[39m get_floor_area_bin(floor_area)\n\u001B[1;32m    211\u001B[0m         matched_row \u001B[38;5;241m=\u001B[39m df[\n\u001B[1;32m    212\u001B[0m             (df[\u001B[38;5;124m'\u001B[39m\u001B[38;5;124mIECC Climate Zone 2004\u001B[39m\u001B[38;5;124m'\u001B[39m] \u001B[38;5;241m==\u001B[39m iecc_zone) \u001B[38;5;241m&\u001B[39m\n\u001B[1;32m    213\u001B[0m             (df[\u001B[38;5;124m'\u001B[39m\u001B[38;5;124mGeometry Floor Area\u001B[39m\u001B[38;5;124m'\u001B[39m] \u001B[38;5;241m==\u001B[39m floor_area_bin) \u001B[38;5;241m&\u001B[39m\n\u001B[1;32m    214\u001B[0m             (df[\u001B[38;5;124m'\u001B[39m\u001B[38;5;124mVintage\u001B[39m\u001B[38;5;124m'\u001B[39m] \u001B[38;5;241m==\u001B[39m vintage)\n\u001B[1;32m    215\u001B[0m             ]\n",
      "File \u001B[0;32m~/Library/CloudStorage/OneDrive-ThePennsylvaniaStateUniversity/Research Project/NFRC/Tool development/Web-based window selection/venv/lib/python3.9/site-packages/pandas/io/parsers/readers.py:1026\u001B[0m, in \u001B[0;36mread_csv\u001B[0;34m(filepath_or_buffer, sep, delimiter, header, names, index_col, usecols, dtype, engine, converters, true_values, false_values, skipinitialspace, skiprows, skipfooter, nrows, na_values, keep_default_na, na_filter, verbose, skip_blank_lines, parse_dates, infer_datetime_format, keep_date_col, date_parser, date_format, dayfirst, cache_dates, iterator, chunksize, compression, thousands, decimal, lineterminator, quotechar, quoting, doublequote, escapechar, comment, encoding, encoding_errors, dialect, on_bad_lines, delim_whitespace, low_memory, memory_map, float_precision, storage_options, dtype_backend)\u001B[0m\n\u001B[1;32m   1013\u001B[0m kwds_defaults \u001B[38;5;241m=\u001B[39m _refine_defaults_read(\n\u001B[1;32m   1014\u001B[0m     dialect,\n\u001B[1;32m   1015\u001B[0m     delimiter,\n\u001B[0;32m   (...)\u001B[0m\n\u001B[1;32m   1022\u001B[0m     dtype_backend\u001B[38;5;241m=\u001B[39mdtype_backend,\n\u001B[1;32m   1023\u001B[0m )\n\u001B[1;32m   1024\u001B[0m kwds\u001B[38;5;241m.\u001B[39mupdate(kwds_defaults)\n\u001B[0;32m-> 1026\u001B[0m \u001B[38;5;28;01mreturn\u001B[39;00m \u001B[43m_read\u001B[49m\u001B[43m(\u001B[49m\u001B[43mfilepath_or_buffer\u001B[49m\u001B[43m,\u001B[49m\u001B[43m \u001B[49m\u001B[43mkwds\u001B[49m\u001B[43m)\u001B[49m\n",
      "File \u001B[0;32m~/Library/CloudStorage/OneDrive-ThePennsylvaniaStateUniversity/Research Project/NFRC/Tool development/Web-based window selection/venv/lib/python3.9/site-packages/pandas/io/parsers/readers.py:620\u001B[0m, in \u001B[0;36m_read\u001B[0;34m(filepath_or_buffer, kwds)\u001B[0m\n\u001B[1;32m    617\u001B[0m _validate_names(kwds\u001B[38;5;241m.\u001B[39mget(\u001B[38;5;124m\"\u001B[39m\u001B[38;5;124mnames\u001B[39m\u001B[38;5;124m\"\u001B[39m, \u001B[38;5;28;01mNone\u001B[39;00m))\n\u001B[1;32m    619\u001B[0m \u001B[38;5;66;03m# Create the parser.\u001B[39;00m\n\u001B[0;32m--> 620\u001B[0m parser \u001B[38;5;241m=\u001B[39m \u001B[43mTextFileReader\u001B[49m\u001B[43m(\u001B[49m\u001B[43mfilepath_or_buffer\u001B[49m\u001B[43m,\u001B[49m\u001B[43m \u001B[49m\u001B[38;5;241;43m*\u001B[39;49m\u001B[38;5;241;43m*\u001B[39;49m\u001B[43mkwds\u001B[49m\u001B[43m)\u001B[49m\n\u001B[1;32m    622\u001B[0m \u001B[38;5;28;01mif\u001B[39;00m chunksize \u001B[38;5;129;01mor\u001B[39;00m iterator:\n\u001B[1;32m    623\u001B[0m     \u001B[38;5;28;01mreturn\u001B[39;00m parser\n",
      "File \u001B[0;32m~/Library/CloudStorage/OneDrive-ThePennsylvaniaStateUniversity/Research Project/NFRC/Tool development/Web-based window selection/venv/lib/python3.9/site-packages/pandas/io/parsers/readers.py:1620\u001B[0m, in \u001B[0;36mTextFileReader.__init__\u001B[0;34m(self, f, engine, **kwds)\u001B[0m\n\u001B[1;32m   1617\u001B[0m     \u001B[38;5;28mself\u001B[39m\u001B[38;5;241m.\u001B[39moptions[\u001B[38;5;124m\"\u001B[39m\u001B[38;5;124mhas_index_names\u001B[39m\u001B[38;5;124m\"\u001B[39m] \u001B[38;5;241m=\u001B[39m kwds[\u001B[38;5;124m\"\u001B[39m\u001B[38;5;124mhas_index_names\u001B[39m\u001B[38;5;124m\"\u001B[39m]\n\u001B[1;32m   1619\u001B[0m \u001B[38;5;28mself\u001B[39m\u001B[38;5;241m.\u001B[39mhandles: IOHandles \u001B[38;5;241m|\u001B[39m \u001B[38;5;28;01mNone\u001B[39;00m \u001B[38;5;241m=\u001B[39m \u001B[38;5;28;01mNone\u001B[39;00m\n\u001B[0;32m-> 1620\u001B[0m \u001B[38;5;28mself\u001B[39m\u001B[38;5;241m.\u001B[39m_engine \u001B[38;5;241m=\u001B[39m \u001B[38;5;28;43mself\u001B[39;49m\u001B[38;5;241;43m.\u001B[39;49m\u001B[43m_make_engine\u001B[49m\u001B[43m(\u001B[49m\u001B[43mf\u001B[49m\u001B[43m,\u001B[49m\u001B[43m \u001B[49m\u001B[38;5;28;43mself\u001B[39;49m\u001B[38;5;241;43m.\u001B[39;49m\u001B[43mengine\u001B[49m\u001B[43m)\u001B[49m\n",
      "File \u001B[0;32m~/Library/CloudStorage/OneDrive-ThePennsylvaniaStateUniversity/Research Project/NFRC/Tool development/Web-based window selection/venv/lib/python3.9/site-packages/pandas/io/parsers/readers.py:1880\u001B[0m, in \u001B[0;36mTextFileReader._make_engine\u001B[0;34m(self, f, engine)\u001B[0m\n\u001B[1;32m   1878\u001B[0m     \u001B[38;5;28;01mif\u001B[39;00m \u001B[38;5;124m\"\u001B[39m\u001B[38;5;124mb\u001B[39m\u001B[38;5;124m\"\u001B[39m \u001B[38;5;129;01mnot\u001B[39;00m \u001B[38;5;129;01min\u001B[39;00m mode:\n\u001B[1;32m   1879\u001B[0m         mode \u001B[38;5;241m+\u001B[39m\u001B[38;5;241m=\u001B[39m \u001B[38;5;124m\"\u001B[39m\u001B[38;5;124mb\u001B[39m\u001B[38;5;124m\"\u001B[39m\n\u001B[0;32m-> 1880\u001B[0m \u001B[38;5;28mself\u001B[39m\u001B[38;5;241m.\u001B[39mhandles \u001B[38;5;241m=\u001B[39m \u001B[43mget_handle\u001B[49m\u001B[43m(\u001B[49m\n\u001B[1;32m   1881\u001B[0m \u001B[43m    \u001B[49m\u001B[43mf\u001B[49m\u001B[43m,\u001B[49m\n\u001B[1;32m   1882\u001B[0m \u001B[43m    \u001B[49m\u001B[43mmode\u001B[49m\u001B[43m,\u001B[49m\n\u001B[1;32m   1883\u001B[0m \u001B[43m    \u001B[49m\u001B[43mencoding\u001B[49m\u001B[38;5;241;43m=\u001B[39;49m\u001B[38;5;28;43mself\u001B[39;49m\u001B[38;5;241;43m.\u001B[39;49m\u001B[43moptions\u001B[49m\u001B[38;5;241;43m.\u001B[39;49m\u001B[43mget\u001B[49m\u001B[43m(\u001B[49m\u001B[38;5;124;43m\"\u001B[39;49m\u001B[38;5;124;43mencoding\u001B[39;49m\u001B[38;5;124;43m\"\u001B[39;49m\u001B[43m,\u001B[49m\u001B[43m \u001B[49m\u001B[38;5;28;43;01mNone\u001B[39;49;00m\u001B[43m)\u001B[49m\u001B[43m,\u001B[49m\n\u001B[1;32m   1884\u001B[0m \u001B[43m    \u001B[49m\u001B[43mcompression\u001B[49m\u001B[38;5;241;43m=\u001B[39;49m\u001B[38;5;28;43mself\u001B[39;49m\u001B[38;5;241;43m.\u001B[39;49m\u001B[43moptions\u001B[49m\u001B[38;5;241;43m.\u001B[39;49m\u001B[43mget\u001B[49m\u001B[43m(\u001B[49m\u001B[38;5;124;43m\"\u001B[39;49m\u001B[38;5;124;43mcompression\u001B[39;49m\u001B[38;5;124;43m\"\u001B[39;49m\u001B[43m,\u001B[49m\u001B[43m \u001B[49m\u001B[38;5;28;43;01mNone\u001B[39;49;00m\u001B[43m)\u001B[49m\u001B[43m,\u001B[49m\n\u001B[1;32m   1885\u001B[0m \u001B[43m    \u001B[49m\u001B[43mmemory_map\u001B[49m\u001B[38;5;241;43m=\u001B[39;49m\u001B[38;5;28;43mself\u001B[39;49m\u001B[38;5;241;43m.\u001B[39;49m\u001B[43moptions\u001B[49m\u001B[38;5;241;43m.\u001B[39;49m\u001B[43mget\u001B[49m\u001B[43m(\u001B[49m\u001B[38;5;124;43m\"\u001B[39;49m\u001B[38;5;124;43mmemory_map\u001B[39;49m\u001B[38;5;124;43m\"\u001B[39;49m\u001B[43m,\u001B[49m\u001B[43m \u001B[49m\u001B[38;5;28;43;01mFalse\u001B[39;49;00m\u001B[43m)\u001B[49m\u001B[43m,\u001B[49m\n\u001B[1;32m   1886\u001B[0m \u001B[43m    \u001B[49m\u001B[43mis_text\u001B[49m\u001B[38;5;241;43m=\u001B[39;49m\u001B[43mis_text\u001B[49m\u001B[43m,\u001B[49m\n\u001B[1;32m   1887\u001B[0m \u001B[43m    \u001B[49m\u001B[43merrors\u001B[49m\u001B[38;5;241;43m=\u001B[39;49m\u001B[38;5;28;43mself\u001B[39;49m\u001B[38;5;241;43m.\u001B[39;49m\u001B[43moptions\u001B[49m\u001B[38;5;241;43m.\u001B[39;49m\u001B[43mget\u001B[49m\u001B[43m(\u001B[49m\u001B[38;5;124;43m\"\u001B[39;49m\u001B[38;5;124;43mencoding_errors\u001B[39;49m\u001B[38;5;124;43m\"\u001B[39;49m\u001B[43m,\u001B[49m\u001B[43m \u001B[49m\u001B[38;5;124;43m\"\u001B[39;49m\u001B[38;5;124;43mstrict\u001B[39;49m\u001B[38;5;124;43m\"\u001B[39;49m\u001B[43m)\u001B[49m\u001B[43m,\u001B[49m\n\u001B[1;32m   1888\u001B[0m \u001B[43m    \u001B[49m\u001B[43mstorage_options\u001B[49m\u001B[38;5;241;43m=\u001B[39;49m\u001B[38;5;28;43mself\u001B[39;49m\u001B[38;5;241;43m.\u001B[39;49m\u001B[43moptions\u001B[49m\u001B[38;5;241;43m.\u001B[39;49m\u001B[43mget\u001B[49m\u001B[43m(\u001B[49m\u001B[38;5;124;43m\"\u001B[39;49m\u001B[38;5;124;43mstorage_options\u001B[39;49m\u001B[38;5;124;43m\"\u001B[39;49m\u001B[43m,\u001B[49m\u001B[43m \u001B[49m\u001B[38;5;28;43;01mNone\u001B[39;49;00m\u001B[43m)\u001B[49m\u001B[43m,\u001B[49m\n\u001B[1;32m   1889\u001B[0m \u001B[43m\u001B[49m\u001B[43m)\u001B[49m\n\u001B[1;32m   1890\u001B[0m \u001B[38;5;28;01massert\u001B[39;00m \u001B[38;5;28mself\u001B[39m\u001B[38;5;241m.\u001B[39mhandles \u001B[38;5;129;01mis\u001B[39;00m \u001B[38;5;129;01mnot\u001B[39;00m \u001B[38;5;28;01mNone\u001B[39;00m\n\u001B[1;32m   1891\u001B[0m f \u001B[38;5;241m=\u001B[39m \u001B[38;5;28mself\u001B[39m\u001B[38;5;241m.\u001B[39mhandles\u001B[38;5;241m.\u001B[39mhandle\n",
      "File \u001B[0;32m~/Library/CloudStorage/OneDrive-ThePennsylvaniaStateUniversity/Research Project/NFRC/Tool development/Web-based window selection/venv/lib/python3.9/site-packages/pandas/io/common.py:873\u001B[0m, in \u001B[0;36mget_handle\u001B[0;34m(path_or_buf, mode, encoding, compression, memory_map, is_text, errors, storage_options)\u001B[0m\n\u001B[1;32m    868\u001B[0m \u001B[38;5;28;01melif\u001B[39;00m \u001B[38;5;28misinstance\u001B[39m(handle, \u001B[38;5;28mstr\u001B[39m):\n\u001B[1;32m    869\u001B[0m     \u001B[38;5;66;03m# Check whether the filename is to be opened in binary mode.\u001B[39;00m\n\u001B[1;32m    870\u001B[0m     \u001B[38;5;66;03m# Binary mode does not support 'encoding' and 'newline'.\u001B[39;00m\n\u001B[1;32m    871\u001B[0m     \u001B[38;5;28;01mif\u001B[39;00m ioargs\u001B[38;5;241m.\u001B[39mencoding \u001B[38;5;129;01mand\u001B[39;00m \u001B[38;5;124m\"\u001B[39m\u001B[38;5;124mb\u001B[39m\u001B[38;5;124m\"\u001B[39m \u001B[38;5;129;01mnot\u001B[39;00m \u001B[38;5;129;01min\u001B[39;00m ioargs\u001B[38;5;241m.\u001B[39mmode:\n\u001B[1;32m    872\u001B[0m         \u001B[38;5;66;03m# Encoding\u001B[39;00m\n\u001B[0;32m--> 873\u001B[0m         handle \u001B[38;5;241m=\u001B[39m \u001B[38;5;28;43mopen\u001B[39;49m\u001B[43m(\u001B[49m\n\u001B[1;32m    874\u001B[0m \u001B[43m            \u001B[49m\u001B[43mhandle\u001B[49m\u001B[43m,\u001B[49m\n\u001B[1;32m    875\u001B[0m \u001B[43m            \u001B[49m\u001B[43mioargs\u001B[49m\u001B[38;5;241;43m.\u001B[39;49m\u001B[43mmode\u001B[49m\u001B[43m,\u001B[49m\n\u001B[1;32m    876\u001B[0m \u001B[43m            \u001B[49m\u001B[43mencoding\u001B[49m\u001B[38;5;241;43m=\u001B[39;49m\u001B[43mioargs\u001B[49m\u001B[38;5;241;43m.\u001B[39;49m\u001B[43mencoding\u001B[49m\u001B[43m,\u001B[49m\n\u001B[1;32m    877\u001B[0m \u001B[43m            \u001B[49m\u001B[43merrors\u001B[49m\u001B[38;5;241;43m=\u001B[39;49m\u001B[43merrors\u001B[49m\u001B[43m,\u001B[49m\n\u001B[1;32m    878\u001B[0m \u001B[43m            \u001B[49m\u001B[43mnewline\u001B[49m\u001B[38;5;241;43m=\u001B[39;49m\u001B[38;5;124;43m\"\u001B[39;49m\u001B[38;5;124;43m\"\u001B[39;49m\u001B[43m,\u001B[49m\n\u001B[1;32m    879\u001B[0m \u001B[43m        \u001B[49m\u001B[43m)\u001B[49m\n\u001B[1;32m    880\u001B[0m     \u001B[38;5;28;01melse\u001B[39;00m:\n\u001B[1;32m    881\u001B[0m         \u001B[38;5;66;03m# Binary mode\u001B[39;00m\n\u001B[1;32m    882\u001B[0m         handle \u001B[38;5;241m=\u001B[39m \u001B[38;5;28mopen\u001B[39m(handle, ioargs\u001B[38;5;241m.\u001B[39mmode)\n",
      "\u001B[0;31mFileNotFoundError\u001B[0m: [Errno 2] No such file or directory: 'data/infiltration.tsv'"
     ]
    }
   ],
   "execution_count": 1
  },
  {
   "metadata": {
    "ExecuteTime": {
     "end_time": "2025-03-28T01:40:11.151309Z",
     "start_time": "2025-03-28T01:40:09.018813Z"
    }
   },
   "cell_type": "code",
   "source": [
    "from preprocessing import *\n",
    "from zipcodeweather import *\n",
    "\n",
    "get_weather_info(\"98105\")"
   ],
   "id": "e9adb5967664a5a4",
   "outputs": [
    {
     "name": "stderr",
     "output_type": "stream",
     "text": [
      "/Users/chenchenshun/Library/CloudStorage/OneDrive-ThePennsylvaniaStateUniversity/Research Project/NFRC/Tool development/Web-based window selection/venv/lib/python3.9/site-packages/urllib3/__init__.py:35: NotOpenSSLWarning: urllib3 v2 only supports OpenSSL 1.1.1+, currently the 'ssl' module is compiled with 'LibreSSL 2.8.3'. See: https://github.com/urllib3/urllib3/issues/3020\n",
      "  warnings.warn(\n"
     ]
    },
    {
     "data": {
      "text/plain": [
       "  Zip Code  winter_avg_temp  summer_avg_temp Climate Zone      HDH     CDH  \\\n",
       "0    98105         6.243056        18.517301       Marine  61640.2  5025.6   \n",
       "\n",
       "         HDD         CDD       GHI  \n",
       "0  2477.2125  118.270833  3.441233  "
      ],
      "text/html": [
       "<div>\n",
       "<style scoped>\n",
       "    .dataframe tbody tr th:only-of-type {\n",
       "        vertical-align: middle;\n",
       "    }\n",
       "\n",
       "    .dataframe tbody tr th {\n",
       "        vertical-align: top;\n",
       "    }\n",
       "\n",
       "    .dataframe thead th {\n",
       "        text-align: right;\n",
       "    }\n",
       "</style>\n",
       "<table border=\"1\" class=\"dataframe\">\n",
       "  <thead>\n",
       "    <tr style=\"text-align: right;\">\n",
       "      <th></th>\n",
       "      <th>Zip Code</th>\n",
       "      <th>winter_avg_temp</th>\n",
       "      <th>summer_avg_temp</th>\n",
       "      <th>Climate Zone</th>\n",
       "      <th>HDH</th>\n",
       "      <th>CDH</th>\n",
       "      <th>HDD</th>\n",
       "      <th>CDD</th>\n",
       "      <th>GHI</th>\n",
       "    </tr>\n",
       "  </thead>\n",
       "  <tbody>\n",
       "    <tr>\n",
       "      <th>0</th>\n",
       "      <td>98105</td>\n",
       "      <td>6.243056</td>\n",
       "      <td>18.517301</td>\n",
       "      <td>Marine</td>\n",
       "      <td>61640.2</td>\n",
       "      <td>5025.6</td>\n",
       "      <td>2477.2125</td>\n",
       "      <td>118.270833</td>\n",
       "      <td>3.441233</td>\n",
       "    </tr>\n",
       "  </tbody>\n",
       "</table>\n",
       "</div>"
      ]
     },
     "execution_count": 1,
     "metadata": {},
     "output_type": "execute_result"
    }
   ],
   "execution_count": 1
  },
  {
   "metadata": {
    "ExecuteTime": {
     "end_time": "2025-03-28T01:40:16.094658Z",
     "start_time": "2025-03-28T01:40:15.391507Z"
    }
   },
   "cell_type": "code",
   "source": [
    "from zipcodeweather import *\n",
    "import pandas as pd\n",
    "\n",
    "weather = ZipCodeWeather()\n",
    "\n",
    "weather.get_climate_zone(\"98105\")"
   ],
   "id": "6fa8f43a04a3d978",
   "outputs": [
    {
     "data": {
      "text/plain": [
       "{'BA_Climate_Zone': 'Marine', 'ASHRAE_IECC_Climate_Zone': '4C'}"
      ]
     },
     "execution_count": 2,
     "metadata": {},
     "output_type": "execute_result"
    }
   ],
   "execution_count": 2
  },
  {
   "metadata": {
    "ExecuteTime": {
     "end_time": "2025-04-14T19:06:17.394299Z",
     "start_time": "2025-04-14T19:06:17.389307Z"
    }
   },
   "cell_type": "code",
   "source": [
    "from preprocessing import *\n",
    "calculate_period(2477, 118)[0]"
   ],
   "id": "711a8bcadebf742a",
   "outputs": [
    {
     "data": {
      "text/plain": [
       "11.454335260115606"
      ]
     },
     "execution_count": 3,
     "metadata": {},
     "output_type": "execute_result"
    }
   ],
   "execution_count": 3
  },
  {
   "metadata": {},
   "cell_type": "code",
   "outputs": [],
   "execution_count": null,
   "source": "",
   "id": "a7799feab0215b15"
  }
 ],
 "metadata": {
  "kernelspec": {
   "display_name": "Python 3",
   "language": "python",
   "name": "python3"
  },
  "language_info": {
   "codemirror_mode": {
    "name": "ipython",
    "version": 2
   },
   "file_extension": ".py",
   "mimetype": "text/x-python",
   "name": "python",
   "nbconvert_exporter": "python",
   "pygments_lexer": "ipython2",
   "version": "2.7.6"
  }
 },
 "nbformat": 4,
 "nbformat_minor": 5
}

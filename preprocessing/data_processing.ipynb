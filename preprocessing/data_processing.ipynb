{
 "cells": [
  {
   "metadata": {},
   "cell_type": "markdown",
   "source": "## Weather data processing",
   "id": "c6846b6806f7a872"
  },
  {
   "metadata": {
    "ExecuteTime": {
     "end_time": "2024-11-11T20:17:17.788277Z",
     "start_time": "2024-11-11T20:17:16.602947Z"
    }
   },
   "cell_type": "code",
   "source": [
    "from app import window_area\n",
    "from zipcodeweather import *\n",
    "import pandas as pd\n",
    "\n",
    "weather = ZipCodeWeather()\n",
    "\n",
    "def get_weather_info(zip_code):\n",
    "    \"\"\"\n",
    "    Retrieve weather station and climate zone information for a given zip code.\n",
    "\n",
    "    Parameters:\n",
    "    - zip_code (str): Zip code of the location.\n",
    "\n",
    "    Returns:\n",
    "    - pd.DataFrame: A DataFrame containing zip code, coordinates, nearest weather station info, and climate zone.\n",
    "    \"\"\"\n",
    "    try:\n",
    "        # Step 1: Find nearest weather station (returns a Series)\n",
    "        nearest_station = weather.get_nearest_station(zip_code)\n",
    "\n",
    "        # Step 2: Retrieve the climate zone as a string\n",
    "        climate_zone = weather.get_climate_zone(zip_code)\n",
    "\n",
    "        # Step 4: Combine all data into a DataFrame\n",
    "        data = {\n",
    "            \"Zip Code\": [zip_code],\n",
    "            \"winter_avg_temp\": nearest_station['winter_avg_temp'],\n",
    "            \"summer_avg_temp\": nearest_station['summer_avg_temp'],\n",
    "            \"Climate Zone\": [climate_zone],\n",
    "            \"HDH\": nearest_station['HDH'],\n",
    "            \"CDH\": nearest_station['CDH'],\n",
    "            \"GHI\": nearest_station['GHI']\n",
    "        }\n",
    "        \n",
    "        # Concatenate both DataFrames along the columns\n",
    "        final_df = pd.DataFrame(data)\n",
    "        \n",
    "        return final_df\n",
    "\n",
    "    except ValueError as e:\n",
    "        print(f\"Error: {e}\")\n",
    "        return pd.DataFrame()  # Return an empty DataFrame on error\n",
    "\n",
    "# Example usage\n",
    "if __name__ == \"__main__\":\n",
    "    zip_code = \"16803\"  # Example zip code\n",
    "    df = get_weather_info(zip_code)\n",
    "    print(df)"
   ],
   "id": "103a9328c7f95985",
   "outputs": [
    {
     "name": "stdout",
     "output_type": "stream",
     "text": [
      "  Zip Code  winter_avg_temp  summer_avg_temp Climate Zone       HDH     CDH  \\\n",
      "0    16803        -1.251898        20.800498         Cold  124322.2  2126.5   \n",
      "\n",
      "        GHI  \n",
      "0  3.673255  \n"
     ]
    }
   ],
   "execution_count": 5
  },
  {
   "metadata": {},
   "cell_type": "code",
   "outputs": [],
   "execution_count": null,
   "source": [
    "import numpy as np\n",
    "\n",
    "# Function to calculate predicted window area\n",
    "def calculate_predicted_window_area(conditioned_area, building_type, stories, wwr, foundation):\n",
    "    if foundation == 'Heated Basement' and building_type == 'Single-Family Detached':\n",
    "        foundation_area = conditioned_area / (stories + 1)\n",
    "        solution = np.sqrt(foundation_area / 1.8)\n",
    "        c = (solution + solution * 1.8) * 2\n",
    "        return c * 8 * stories * (wwr * 0.01)\n",
    "\n",
    "    elif foundation == 'Heated Basement' and building_type == 'Single-Family Attached':\n",
    "        foundation_area = conditioned_area / (stories + 1)\n",
    "        solution = np.sqrt(foundation_area / 0.5556)\n",
    "        c = (solution + solution * 0.5556) * 2\n",
    "        return c * 8 * stories * (wwr * 0.01)\n",
    "\n",
    "    elif foundation != 'Heated Basement' and building_type == 'Single-Family Detached':\n",
    "        foundation_area = conditioned_area / stories\n",
    "        solution = np.sqrt(foundation_area / 1.8)\n",
    "        c = (solution + solution * 1.8) * 2\n",
    "        return c * 8 * stories * (wwr * 0.01)\n",
    "\n",
    "    elif foundation != 'Heated Basement' and building_type == 'Single-Family Attached':\n",
    "        foundation_area = conditioned_area / stories\n",
    "        solution = np.sqrt(foundation_area / 0.5556)\n",
    "        c = (solution + solution * 0.5556) * 2\n",
    "        return c * 8 * stories * (wwr * 0.01)\n",
    "\n",
    "    elif building_type == 'Apartment Unit':\n",
    "        solution = np.sqrt(conditioned_area / 0.5556)\n",
    "        c = (solution + solution * 0.5556) * 2\n",
    "        return c * 8 * (wwr * 0.01)\n",
    "\n",
    "    elif building_type == 'Mobile Home':\n",
    "        solution = np.sqrt(conditioned_area / 1.8)\n",
    "        c = (solution + solution * 1.8) * 2\n",
    "        return c * 8 * (wwr * 0.01)"
   ],
   "id": "52b355e0a2eacb07"
  },
  {
   "metadata": {},
   "cell_type": "code",
   "outputs": [],
   "execution_count": null,
   "source": [
    "# surface area / volume\n",
    "# Processed variables\n",
    "def calculate_surface_volume_ratio(conditioned_area, building_type, stories, foundation):\n",
    "    if foundation == 'Heated Basement' and building_type == 'Single-Family Detached':\n",
    "        foundation_area = conditioned_area / (stories + 1)\n",
    "        solution = np.sqrt(foundation_area / 1.8)\n",
    "        volume = foundation_area * (stories + 1) * 8\n",
    "        c = (solution + solution * 1.8) * 2\n",
    "        surface_area = c * (stories + 1) * 8 + foundation_area\n",
    "        return surface_area/volume\n",
    "\n",
    "    elif foundation == 'Heated Basement' and building_type == 'Single-Family Attached':\n",
    "        foundation_area = conditioned_area / (stories + 1)\n",
    "        solution = np.sqrt(foundation_area / 0.5556)\n",
    "        volume = foundation_area * (stories + 1) * 8\n",
    "        c = (solution + solution * 0.5556) * 2\n",
    "        surface_area = c * (stories + 1) * 8 + foundation_area\n",
    "        return surface_area/volume\n",
    "\n",
    "    elif foundation != 'Heated Basement' and building_type == 'Single-Family Detached':\n",
    "        foundation_area = conditioned_area / stories\n",
    "        solution = np.sqrt(foundation_area / 1.8)\n",
    "        volume = foundation_area * stories * 8\n",
    "        c = (solution + solution * 1.8) * 2\n",
    "        surface_area = c * stories * 8 + foundation_area\n",
    "        return surface_area/volume\n",
    "\n",
    "    elif foundation != 'Heated Basement' and building_type == 'Single-Family Attached':\n",
    "        foundation_area = conditioned_area / stories\n",
    "        solution = np.sqrt(foundation_area / 0.5556)\n",
    "        volume = foundation_area * stories * 8\n",
    "        c = (solution + solution * 0.5556) * 2\n",
    "        surface_area = c * stories * 8 + foundation_area\n",
    "        return surface_area/volume\n",
    "\n",
    "    elif building_type == 'Apartment Unit':\n",
    "        solution = np.sqrt(conditioned_area / 0.5556)\n",
    "        volume = conditioned_area * 8\n",
    "        c = (solution + solution * 0.5556) * 2\n",
    "        surface_area = c * 8 + conditioned_area\n",
    "        return surface_area/volume\n",
    "\n",
    "    elif building_type == 'Mobile Home':\n",
    "        solution = np.sqrt(conditioned_area / 1.8)\n",
    "        volume = conditioned_area * 8\n",
    "        c = (solution + solution * 1.8) * 2\n",
    "        surface_area = c * 8 + conditioned_area\n",
    "        return surface_area/volume"
   ],
   "id": "eb06c7eb7871e9a"
  },
  {
   "metadata": {
    "ExecuteTime": {
     "end_time": "2024-11-13T23:34:14.154565Z",
     "start_time": "2024-11-13T23:34:12.977367Z"
    }
   },
   "cell_type": "code",
   "source": [
    "from preprocessing import *\n",
    "import numpy as np\n",
    "weather_df = get_weather_info(\"16803\")\n",
    "print(weather_df[\"GHI\"].iloc[0])"
   ],
   "id": "70e809ebc3cb9be2",
   "outputs": [
    {
     "name": "stdout",
     "output_type": "stream",
     "text": [
      "3.673254794520548\n"
     ]
    }
   ],
   "execution_count": 18
  },
  {
   "metadata": {
    "ExecuteTime": {
     "end_time": "2024-11-13T21:05:26.438113Z",
     "start_time": "2024-11-13T21:05:26.434750Z"
    }
   },
   "cell_type": "code",
   "source": [
    "o = convert_orientation(\"North\")\n",
    "print(o)"
   ],
   "id": "8c3a2458342ffbc7",
   "outputs": [
    {
     "name": "stdout",
     "output_type": "stream",
     "text": [
      "0\n"
     ]
    }
   ],
   "execution_count": 2
  },
  {
   "metadata": {
    "ExecuteTime": {
     "end_time": "2024-11-13T23:11:49.669756Z",
     "start_time": "2024-11-13T23:11:49.308018Z"
    }
   },
   "cell_type": "code",
   "source": [
    "import json\n",
    "import streamlit as st\n",
    "st.write(\"### Session State Variables (JSON Format)\")\n",
    "st.json(st.session_state)"
   ],
   "id": "f11b307936896791",
   "outputs": [
    {
     "name": "stderr",
     "output_type": "stream",
     "text": [
      "2024-11-13 18:11:49.486 WARNING streamlit.runtime.scriptrunner_utils.script_run_context: Thread 'MainThread': missing ScriptRunContext! This warning can be ignored when running in bare mode.\n",
      "2024-11-13 18:11:49.662 \n",
      "  \u001B[33m\u001B[1mWarning:\u001B[0m to view this Streamlit app on a browser, run it with the following\n",
      "  command:\n",
      "\n",
      "    streamlit run /Users/chenchenshun/Library/CloudStorage/OneDrive-ThePennsylvaniaStateUniversity/Research Project/NFRC/Tool development/Web-based window selection/venv/lib/python3.9/site-packages/ipykernel_launcher.py [ARGUMENTS]\n",
      "2024-11-13 18:11:49.663 Thread 'MainThread': missing ScriptRunContext! This warning can be ignored when running in bare mode.\n",
      "2024-11-13 18:11:49.663 Thread 'MainThread': missing ScriptRunContext! This warning can be ignored when running in bare mode.\n",
      "2024-11-13 18:11:49.663 Thread 'MainThread': missing ScriptRunContext! This warning can be ignored when running in bare mode.\n",
      "2024-11-13 18:11:49.663 Thread 'MainThread': missing ScriptRunContext! This warning can be ignored when running in bare mode.\n",
      "2024-11-13 18:11:49.664 Session state does not function when running a script without `streamlit run`\n",
      "2024-11-13 18:11:49.664 Thread 'MainThread': missing ScriptRunContext! This warning can be ignored when running in bare mode.\n",
      "2024-11-13 18:11:49.664 Thread 'MainThread': missing ScriptRunContext! This warning can be ignored when running in bare mode.\n"
     ]
    },
    {
     "data": {
      "text/plain": [
       "DeltaGenerator()"
      ]
     },
     "execution_count": 3,
     "metadata": {},
     "output_type": "execute_result"
    }
   ],
   "execution_count": 3
  },
  {
   "metadata": {},
   "cell_type": "code",
   "outputs": [],
   "execution_count": null,
   "source": "",
   "id": "1633bcd164cbd48a"
  }
 ],
 "metadata": {
  "kernelspec": {
   "display_name": "Python 3",
   "language": "python",
   "name": "python3"
  },
  "language_info": {
   "codemirror_mode": {
    "name": "ipython",
    "version": 2
   },
   "file_extension": ".py",
   "mimetype": "text/x-python",
   "name": "python",
   "nbconvert_exporter": "python",
   "pygments_lexer": "ipython2",
   "version": "2.7.6"
  }
 },
 "nbformat": 4,
 "nbformat_minor": 5
}
